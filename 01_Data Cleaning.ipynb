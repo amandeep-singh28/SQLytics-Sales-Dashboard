{
 "cells": [
  {
   "cell_type": "code",
   "execution_count": 4,
   "id": "89845961",
   "metadata": {},
   "outputs": [],
   "source": [
    "import pandas as pd\n",
    "import numpy as np"
   ]
  },
  {
   "cell_type": "code",
   "execution_count": 5,
   "id": "6deb0549",
   "metadata": {},
   "outputs": [
    {
     "name": "stderr",
     "output_type": "stream",
     "text": [
      "<>:1: SyntaxWarning: invalid escape sequence '\\S'\n",
      "<>:1: SyntaxWarning: invalid escape sequence '\\S'\n",
      "C:\\Users\\amand\\AppData\\Local\\Temp\\ipykernel_3424\\1137792038.py:1: SyntaxWarning: invalid escape sequence '\\S'\n",
      "  df = pd.read_csv('DataSets\\SuperStoreOrders.csv')\n"
     ]
    }
   ],
   "source": [
    "df = pd.read_csv('DataSets\\SuperStoreOrders.csv')"
   ]
  },
  {
   "cell_type": "code",
   "execution_count": null,
   "id": "16d985c9",
   "metadata": {},
   "outputs": [],
   "source": []
  },
  {
   "cell_type": "code",
   "execution_count": 6,
   "id": "07a1c5e5",
   "metadata": {},
   "outputs": [
    {
     "data": {
      "text/plain": [
       "order_id           object\n",
       "order_date         object\n",
       "ship_date          object\n",
       "ship_mode          object\n",
       "customer_name      object\n",
       "segment            object\n",
       "state              object\n",
       "country            object\n",
       "market             object\n",
       "region             object\n",
       "product_id         object\n",
       "category           object\n",
       "sub_category       object\n",
       "product_name       object\n",
       "sales              object\n",
       "quantity            int64\n",
       "discount          float64\n",
       "profit            float64\n",
       "shipping_cost     float64\n",
       "order_priority     object\n",
       "year                int64\n",
       "dtype: object"
      ]
     },
     "execution_count": 6,
     "metadata": {},
     "output_type": "execute_result"
    }
   ],
   "source": [
    "df.dtypes"
   ]
  },
  {
   "cell_type": "code",
   "execution_count": 7,
   "id": "57683d4b",
   "metadata": {},
   "outputs": [],
   "source": [
    "#Since we will insert this data into SQL, so it is important to change the datatypes\n",
    "df['sales'] = df['sales'].str.replace(',','').astype(int)\n",
    "df['order_date'] = pd.to_datetime(df['order_date'], dayfirst = True)\n",
    "df['ship_date'] = pd.to_datetime(df['ship_date'], dayfirst = True)\n"
   ]
  },
  {
   "cell_type": "code",
   "execution_count": null,
   "id": "fc1419bc",
   "metadata": {},
   "outputs": [],
   "source": []
  },
  {
   "cell_type": "code",
   "execution_count": 8,
   "id": "882c96c7",
   "metadata": {},
   "outputs": [
    {
     "data": {
      "text/plain": [
       "order_id                  object\n",
       "order_date        datetime64[ns]\n",
       "ship_date         datetime64[ns]\n",
       "ship_mode                 object\n",
       "customer_name             object\n",
       "segment                   object\n",
       "state                     object\n",
       "country                   object\n",
       "market                    object\n",
       "region                    object\n",
       "product_id                object\n",
       "category                  object\n",
       "sub_category              object\n",
       "product_name              object\n",
       "sales                      int64\n",
       "quantity                   int64\n",
       "discount                 float64\n",
       "profit                   float64\n",
       "shipping_cost            float64\n",
       "order_priority            object\n",
       "year                       int64\n",
       "dtype: object"
      ]
     },
     "execution_count": 8,
     "metadata": {},
     "output_type": "execute_result"
    }
   ],
   "source": [
    "df.dtypes"
   ]
  },
  {
   "cell_type": "code",
   "execution_count": 9,
   "id": "91746103",
   "metadata": {},
   "outputs": [
    {
     "data": {
      "text/plain": [
       "Index(['order_id', 'order_date', 'ship_date', 'ship_mode', 'customer_name',\n",
       "       'segment', 'state', 'country', 'market', 'region', 'product_id',\n",
       "       'category', 'sub_category', 'product_name', 'sales', 'quantity',\n",
       "       'discount', 'profit', 'shipping_cost', 'order_priority', 'year'],\n",
       "      dtype='object')"
      ]
     },
     "execution_count": 9,
     "metadata": {},
     "output_type": "execute_result"
    }
   ],
   "source": [
    "df.columns"
   ]
  },
  {
   "cell_type": "code",
   "execution_count": 10,
   "id": "d8c2752b",
   "metadata": {},
   "outputs": [],
   "source": [
    "df.columns = df.columns.str.replace('_', ' ')"
   ]
  },
  {
   "cell_type": "code",
   "execution_count": 11,
   "id": "2f3388fc",
   "metadata": {},
   "outputs": [],
   "source": [
    "df.columns = df.columns.str.title()"
   ]
  },
  {
   "cell_type": "code",
   "execution_count": 12,
   "id": "87467c62",
   "metadata": {},
   "outputs": [
    {
     "data": {
      "text/plain": [
       "Index(['Order Id', 'Order Date', 'Ship Date', 'Ship Mode', 'Customer Name',\n",
       "       'Segment', 'State', 'Country', 'Market', 'Region', 'Product Id',\n",
       "       'Category', 'Sub Category', 'Product Name', 'Sales', 'Quantity',\n",
       "       'Discount', 'Profit', 'Shipping Cost', 'Order Priority', 'Year'],\n",
       "      dtype='object')"
      ]
     },
     "execution_count": 12,
     "metadata": {},
     "output_type": "execute_result"
    }
   ],
   "source": [
    "df.columns"
   ]
  },
  {
   "cell_type": "code",
   "execution_count": 13,
   "id": "1f763a16",
   "metadata": {},
   "outputs": [
    {
     "data": {
      "text/plain": [
       "(51290, 21)"
      ]
     },
     "execution_count": 13,
     "metadata": {},
     "output_type": "execute_result"
    }
   ],
   "source": [
    "df.shape"
   ]
  },
  {
   "cell_type": "code",
   "execution_count": 14,
   "id": "73d5becf",
   "metadata": {},
   "outputs": [
    {
     "data": {
      "text/plain": [
       "np.int64(0)"
      ]
     },
     "execution_count": 14,
     "metadata": {},
     "output_type": "execute_result"
    }
   ],
   "source": [
    "df.isnull().sum().sum() #No Null Values"
   ]
  },
  {
   "cell_type": "code",
   "execution_count": null,
   "id": "b8beff0b",
   "metadata": {},
   "outputs": [],
   "source": [
    "unique_customers = df[['Customer Name', 'Segment', 'Country',\n",
    "                        'State', 'Region', 'Market']].drop_duplicates().reset_index(drop=True)\n",
    "\n",
    "\n",
    "# Creating Customer_ID as Primary Key For SQL\n",
    "unique_customers['Customer Id'] = unique_customers.index + 1\n",
    "\n",
    "# Merging Customer_ID Back To The Original DataFrame\n",
    "df = df.merge(unique_customers, on=['Customer Name', 'Segment', 'Country', 'State', 'Region', 'Market'], how='left')\n"
   ]
  },
  {
   "cell_type": "code",
   "execution_count": null,
   "id": "34d74a2b",
   "metadata": {},
   "outputs": [],
   "source": [
    "#Partioning The Main Data Into Three Tables -> Customers, Products & Orders\n",
    "customers = df[['Customer Id', 'Customer Name', 'Segment', 'Country',\n",
    "                 'State', 'Region', 'Market']].drop_duplicates().reset_index(drop=True)\n",
    "\n",
    "products = df[['Product Id', 'Product Name', 'Category',\n",
    "                'Sub Category']].drop_duplicates().reset_index(drop=True)\n",
    "\n",
    "orders = df[['Order Id', 'Order Date', 'Ship Date', 'Ship Mode','Customer Id', 'Product Id', 'Sales', 'Quantity','Discount', 'Profit', 'Shipping Cost', 'Order Priority', 'Year']]\n"
   ]
  },
  {
   "cell_type": "code",
   "execution_count": 17,
   "id": "b3f2e60f",
   "metadata": {},
   "outputs": [],
   "source": [
    "customers.to_csv(\"customers.csv\", index=False)\n",
    "products.to_csv(\"products.csv\", index=False)\n",
    "orders.to_csv(\"orders.csv\", index=False)\n"
   ]
  },
  {
   "cell_type": "code",
   "execution_count": 18,
   "id": "758b0fe6",
   "metadata": {},
   "outputs": [],
   "source": [
    "df_products = pd.read_csv('products.csv')"
   ]
  },
  {
   "cell_type": "code",
   "execution_count": 19,
   "id": "48acc809",
   "metadata": {},
   "outputs": [
    {
     "data": {
      "text/plain": [
       "Index(['Product Id', 'Product Name', 'Category', 'Sub Category'], dtype='object')"
      ]
     },
     "execution_count": 19,
     "metadata": {},
     "output_type": "execute_result"
    }
   ],
   "source": [
    "df_products.columns"
   ]
  },
  {
   "cell_type": "code",
   "execution_count": 20,
   "id": "9c1d4848",
   "metadata": {},
   "outputs": [],
   "source": [
    "df_products = df_products.drop_duplicates(subset = 'Product Id')"
   ]
  },
  {
   "cell_type": "code",
   "execution_count": 21,
   "id": "968baa23",
   "metadata": {},
   "outputs": [],
   "source": [
    "df_products.to_csv('products_clean.csv', index = False)"
   ]
  },
  {
   "cell_type": "code",
   "execution_count": null,
   "id": "95e9e53d",
   "metadata": {},
   "outputs": [],
   "source": []
  },
  {
   "cell_type": "code",
   "execution_count": 22,
   "id": "e0abb92a",
   "metadata": {},
   "outputs": [],
   "source": [
    "df_orders = pd.read_csv('orders.csv')"
   ]
  },
  {
   "cell_type": "code",
   "execution_count": 23,
   "id": "adbc0800",
   "metadata": {},
   "outputs": [
    {
     "data": {
      "text/plain": [
       "Index(['Order Id', 'Order Date', 'Ship Date', 'Ship Mode', 'Customer Id',\n",
       "       'Product Id', 'Sales', 'Quantity', 'Discount', 'Profit',\n",
       "       'Shipping Cost', 'Order Priority', 'Year'],\n",
       "      dtype='object')"
      ]
     },
     "execution_count": 23,
     "metadata": {},
     "output_type": "execute_result"
    }
   ],
   "source": [
    "df_orders.columns"
   ]
  },
  {
   "cell_type": "code",
   "execution_count": 24,
   "id": "cfefae1c",
   "metadata": {},
   "outputs": [],
   "source": [
    "df_orders = df_orders.drop_duplicates(subset = ['Order Id', 'Product Id'])"
   ]
  },
  {
   "cell_type": "code",
   "execution_count": 25,
   "id": "0b4a3e1f",
   "metadata": {},
   "outputs": [],
   "source": [
    "df_orders.to_csv('orders_clean.csv', index = False)"
   ]
  }
 ],
 "metadata": {
  "kernelspec": {
   "display_name": ".venv",
   "language": "python",
   "name": "python3"
  },
  "language_info": {
   "codemirror_mode": {
    "name": "ipython",
    "version": 3
   },
   "file_extension": ".py",
   "mimetype": "text/x-python",
   "name": "python",
   "nbconvert_exporter": "python",
   "pygments_lexer": "ipython3",
   "version": "3.12.0"
  }
 },
 "nbformat": 4,
 "nbformat_minor": 5
}
